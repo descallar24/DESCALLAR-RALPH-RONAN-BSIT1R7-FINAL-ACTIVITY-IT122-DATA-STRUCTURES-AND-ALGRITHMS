{
 "cells": [
  {
   "cell_type": "code",
   "execution_count": 7,
   "id": "local-local",
   "metadata": {
    "collapsed": true,
    "jupyter": {
     "outputs_hidden": true
    },
    "tags": []
   },
   "outputs": [
    {
     "name": "stdout",
     "output_type": "stream",
     "text": [
      "This are the following that I learn in this chapter \n",
      "in the topic graphic introduction in data structures and algorithm\n",
      "I learn many tecniques and lesson from this chapter \n",
      "I see how graphs work and how it construct\n",
      "and what are the different kinds of graph\n",
      "GRAPH vs TREE \n",
      "in tree there should be only one path between two nodes  \n",
      "in utility of graph links will tell you routes in two cities  \n",
      "\n",
      "UNDIRECTED GRAPH- Undirected graph have links and edges but do not have path.\n",
      "DIRECTED GRAPH- Directed graph is a graph who have two nodes but one path \n",
      "or that are connected together, where all the edges are directed \n",
      "from one vertex to another.\n",
      "WEIGHTED GRAPH- Weighted graph is a graph who have many nodes or branch\n",
      "but in the end it is end in one path\n",
      "\n",
      "Dictionary is an alternative array for tuples in representing class data structure and this method your program wil be good, simply and better in the eyes.\n",
      "WHEN EVER YOU ARE WRTING A RECURSIVE FUNCTION YOU NEED TO THINK ABOUT THE SIMPLEST CASE.\n",
      "Whenever you are writing a recursive function you need to think about the simplest case,\n",
      "and the simplest case is that your start is the same as your end.\n"
     ]
    }
   ],
   "source": [
    "print (\"This are the following that I learn in this chapter 9\")\n",
    "print (\"in the topic graphic introduction in data structures and algorithm\")\n",
    "print (\"I learn many tecniques and lesson from this chapter \")\n",
    "print (\"I see how graphs work and how it construct\")\n",
    "print (\"and what are the different kinds of graph\")\n",
    "print (\"GRAPH vs TREE \")\n",
    "print (\"in tree there should be only one path between two nodes  \")\n",
    "print (\"in utility of graph links will tell you routes in two cities  \")\n",
    "print (\"\\nUNDIRECTED GRAPH- Undirected graph have links and edges but do not have path.\")\n",
    "print (\"DIRECTED GRAPH- Directed graph is a graph who have two nodes but one path \")\n",
    "print (\"or that are connected together, where all the edges are directed \")\n",
    "print (\"from one vertex to another.\")\n",
    "print (\"WEIGHTED GRAPH- Weighted graph is a graph who have many nodes or branch\")\n",
    "print (\"but in the end it is end in one path\")\n",
    "print (\"\\nDictionary is an alternative array for tuples in representing class data structure and this method your program wil be good, simply and better in the eyes.\")\n",
    "print (\"WHEN EVER YOU ARE WRTING A RECURSIVE FUNCTION YOU NEED TO THINK ABOUT THE SIMPLEST CASE.\")\n",
    "print (\"Whenever you are writing a recursive function you need to think about the simplest case,\")\n",
    "print (\"and the simplest case is that your start is the same as your end.\")\n",
    "    "
   ]
  },
  {
   "cell_type": "code",
   "execution_count": 5,
   "id": "valued-collapse",
   "metadata": {
    "collapsed": true,
    "jupyter": {
     "outputs_hidden": true
    },
    "tags": []
   },
   "outputs": [
    {
     "name": "stdout",
     "output_type": "stream",
     "text": [
      "This are the following that I learn in this chapter \n",
      "\n",
      "Binary search is a fast search algorithm with run-time  \n",
      "complexity of Ο(log n). This search algorithm works on the \n",
      "principle of divide and conquer. For this algorithm to work  \n",
      "properly, the data collection should be in the sorted form. \n",
      "\n",
      "List is always start in 0 \n",
      "Linear search-7 iterations \n",
      "solution of linear search to have better and fast data is binary search \n",
      "Binary search- 3 iterations \n",
      "-in binary seacrh in every itereation you are dividing your \n",
      "seacrh space in to 2 or 1/2 of your element \n",
      "\n",
      "How Binary Search Works? \n",
      "For a binary search to work, it is mandatory for the target array to be sorted. \n",
      "Binary search halves the searchable items and thus reduces the  \n",
      "count of comparisons to be made to very less numbers. \n",
      "Binary search looks for a particular item by comparing the  \n",
      "middle most item of the collection. If a match occurs, then the  \n",
      "index of item is returned. If the middle item is greater than the  \n",
      "item, then the item is searched in the sub-array to the left of  \n",
      "the middle item. Otherwise, the item is searched for in the  \n",
      "sub-array to the right of the middle item. This process  \n",
      "sub-array to the right of the middle item. This process  \n",
      "continues on the sub-array as well until the size of the  \n",
      "subarray reduces to zero. \n"
     ]
    }
   ],
   "source": [
    "print (\"This are the following that I learn in this chapter 10 \")\n",
    "print (\"\\nBinary search is a fast search algorithm with run-time  \")\n",
    "print (\"complexity of Ο(log n). This search algorithm works on the \")\n",
    "print (\"principle of divide and conquer. For this algorithm to work  \")\n",
    "print (\"properly, the data collection should be in the sorted form. \")\n",
    "print (\"\\nList is always start in 0 \")\n",
    "print (\"Linear search-7 iterations \")\n",
    "print (\"solution of linear search to have better and fast data is binary search \")\n",
    "print (\"Binary search- 3 iterations \")\n",
    "print (\"-in binary seacrh in every itereation you are dividing your \")\n",
    "print (\"seacrh space in to 2 or 1/2 of your element \")\n",
    "print (\"\\nHow Binary Search Works? \")\n",
    "print (\"For a binary search to work, it is mandatory for the target array to be sorted. \")\n",
    "print (\"Binary search halves the searchable items and thus reduces the  \")\n",
    "print (\"count of comparisons to be made to very less numbers. \")\n",
    "print (\"Binary search looks for a particular item by comparing the  \")\n",
    "print (\"middle most item of the collection. If a match occurs, then the  \")\n",
    "print (\"index of item is returned. If the middle item is greater than the  \")\n",
    "print (\"item, then the item is searched in the sub-array to the left of  \")\n",
    "print (\"the middle item. Otherwise, the item is searched for in the  \")\n",
    "print (\"sub-array to the right of the middle item. This process  \")\n",
    "print (\"sub-array to the right of the middle item. This process  \")\n",
    "print (\"continues on the sub-array as well until the size of the  \")\n",
    "print (\"subarray reduces to zero. \")\n"
   ]
  },
  {
   "cell_type": "code",
   "execution_count": 10,
   "id": "premium-navigator",
   "metadata": {
    "collapsed": true,
    "jupyter": {
     "outputs_hidden": true
    },
    "tags": []
   },
   "outputs": [
    {
     "name": "stdout",
     "output_type": "stream",
     "text": [
      "This are the following that I learn in this chapter \n",
      "Bubble sort is a simple sorting algorithm. This sorting  \n",
      "algorithm is comparison-based algorithm in which each pair of  \n",
      "adjacent elements is compared and the elements are swapped  \n",
      "if they are not in order.\n",
      "\n",
      "How Bubble Sort Works? \n",
      "It sort the unsorted array or elements inside the array \n",
      "The variable swapped is variable we can use to solve the issue few  \n",
      "complexity issue to help us see if any swap has happened or not. \n",
      "\n",
      "One more issue we did not address in our original algorithm  \n",
      "and its improvised pseudocode, is that, after every iteration  \n",
      "the highest values settles down at the end of the array. Hence,  \n",
      "the next iteration need not include already sorted elements.  \n",
      "For this purpose, in our implementation, we restrict the inner  \n",
      "loop to avoid already sorted values. \n",
      " \n",
      " \n"
     ]
    }
   ],
   "source": [
    "print (\"This are the following that I learn in this chapter 11 \")\n",
    "print (\"Bubble sort is a simple sorting algorithm. This sorting  \")\n",
    "print (\"algorithm is comparison-based algorithm in which each pair of  \")\n",
    "print (\"adjacent elements is compared and the elements are swapped  \")\n",
    "print (\"if they are not in order.\")\n",
    "print (\"\\nHow Bubble Sort Works? \")\n",
    "print (\"It sort the unsorted array or elements inside the array \")\n",
    "print (\"The variable swapped is variable we can use to solve the issue few  \")\n",
    "print (\"complexity issue to help us see if any swap has happened or not. \")\n",
    "print (\"\\nOne more issue we did not address in our original algorithm  \")\n",
    "print (\"and its improvised pseudocode, is that, after every iteration  \")\n",
    "print (\"the highest values settles down at the end of the array. Hence,  \")\n",
    "print (\"the next iteration need not include already sorted elements.  \")\n",
    "print (\"For this purpose, in our implementation, we restrict the inner  \")\n",
    "print (\"loop to avoid already sorted values. \")\n",
    "print (\" \")\n",
    "print (\" \")"
   ]
  },
  {
   "cell_type": "code",
   "execution_count": 11,
   "id": "yellow-morrison",
   "metadata": {
    "collapsed": true,
    "jupyter": {
     "outputs_hidden": true
    },
    "tags": []
   },
   "outputs": [
    {
     "name": "stdout",
     "output_type": "stream",
     "text": [
      "This are the following that I learn in this chapter \n",
      "\n",
      "QUICK SORT is a highly efficient sorting algorithm and is based  \n",
      "on partitioning of array of data into smaller arrays. A large  \n",
      "array is partitioned into two arrays one of which holds values  \n",
      "smaller than the specified value, say pivot, based on which the  \n",
      "partition is made and another array holds values greater than \n",
      "the pivot value. \n",
      "Quicksort partitions an array and then calls itself recursively \n",
      "twice to sort the two resulting subarrays. \n",
      "\n",
      "Quick Sort Pivot Algorithm \n",
      "Based on our understanding of partitioning in quick sort, we  \n",
      "will now try to write an algorithm for it, which is as follows. \n",
      "Step 1 − Choose the highest index value has pivot \n",
      "Step 2 − Take two variables to point left and right of the list excluding pivot \n",
      "Step 3 − left points to the low index \n",
      "Step 4 − right points to the high \n",
      "Step 5 − while value at left is less than pivot move right \n",
      "Step 6 − while value at right is greater than pivot move left \n",
      "Step 7 − if both step 5 and step 6 does not match swap left and right \n",
      "Step 8 − if left ≥ right, the point where they met is new pivot \n",
      " \n"
     ]
    }
   ],
   "source": [
    "print (\"This are the following that I learn in this chapter 12 \")\n",
    "print (\"\\nQUICK SORT is a highly efficient sorting algorithm and is based  \")\n",
    "print (\"on partitioning of array of data into smaller arrays. A large  \")\n",
    "print (\"array is partitioned into two arrays one of which holds values  \")\n",
    "print (\"smaller than the specified value, say pivot, based on which the  \")\n",
    "print (\"partition is made and another array holds values greater than \")\n",
    "print (\"the pivot value. \")\n",
    "print (\"Quicksort partitions an array and then calls itself recursively \")\n",
    "print (\"twice to sort the two resulting subarrays. \")\n",
    "print (\"\\nQuick Sort Pivot Algorithm \")\n",
    "print (\"Based on our understanding of partitioning in quick sort, we  \")\n",
    "print (\"will now try to write an algorithm for it, which is as follows. \")\n",
    "print (\"Step 1 − Choose the highest index value has pivot \")\n",
    "print (\"Step 2 − Take two variables to point left and right of the list excluding pivot \")\n",
    "print (\"Step 3 − left points to the low index \")\n",
    "print (\"Step 4 − right points to the high \")\n",
    "print (\"Step 5 − while value at left is less than pivot move right \")\n",
    "print (\"Step 6 − while value at right is greater than pivot move left \")\n",
    "print (\"Step 7 − if both step 5 and step 6 does not match swap left and right \")\n",
    "print (\"Step 8 − if left ≥ right, the point where they met is new pivot \")\n",
    "print (\" \")\n"
   ]
  },
  {
   "cell_type": "code",
   "execution_count": 12,
   "id": "derived-sleeping",
   "metadata": {
    "collapsed": true,
    "jupyter": {
     "outputs_hidden": true
    },
    "tags": []
   },
   "outputs": [
    {
     "name": "stdout",
     "output_type": "stream",
     "text": [
      "This are the following that I learn in this chapter \n",
      "\n",
      "Insertion Sort This is an in-place comparison-based sorting algorithm. Here,  \n",
      "a sub-list is maintained which is always sorted. For example,  \n",
      "the lower part of an array is maintained to be sorted. An  \n",
      "element which is to be 'insert'ed in this sorted sub-list, has to  \n",
      "find its appropriate place and then it has to be inserted there.  \n",
      "Hence the name, insertion sort. \n",
      "\n",
      "The array is searched sequentially and unsorted items are  \n",
      "moved and inserted into the sorted sub-list (in the same array). \n",
      "This process goes on until all the unsorted values are covered  \n",
      "in a sorted sub-list. Now we shall see some programming  \n",
      "aspects of insertion sort. \n",
      "\n",
      "Now we have a bigger picture of how this sorting technique  \n",
      "works, so we can derive simple steps by which we can achieve  \n",
      "insertion sort. \n",
      "Step 1 − If it is the first element, it is already sorted. return 1; \n",
      "Step 2 − Pick next element \n",
      "Step 3 − Compare with all elements in the sorted sub-list \n",
      "Step 4 − Shift all the elements in the sorted sub-list that is  \n",
      "greater than the value to be sorted \n",
      "Step 5 − Insert the value \n",
      "Step 6 − Repeat until list is sorted \n",
      " \n"
     ]
    }
   ],
   "source": [
    "print (\"This are the following that I learn in this chapter 13 \")\n",
    "print (\"\\nInsertion Sort This is an in-place comparison-based sorting algorithm. Here,  \")\n",
    "print (\"a sub-list is maintained which is always sorted. For example,  \")\n",
    "print (\"the lower part of an array is maintained to be sorted. An  \")\n",
    "print (\"element which is to be 'insert'ed in this sorted sub-list, has to  \")\n",
    "print (\"find its appropriate place and then it has to be inserted there.  \")\n",
    "print (\"Hence the name, insertion sort. \")\n",
    "print (\"\\nThe array is searched sequentially and unsorted items are  \")\n",
    "print (\"moved and inserted into the sorted sub-list (in the same array). \")\n",
    "print (\"This process goes on until all the unsorted values are covered  \")\n",
    "print (\"in a sorted sub-list. Now we shall see some programming  \")\n",
    "print (\"aspects of insertion sort. \")\n",
    "print (\"\\nNow we have a bigger picture of how this sorting technique  \")\n",
    "print (\"works, so we can derive simple steps by which we can achieve  \")\n",
    "print (\"insertion sort. \")\n",
    "print (\"Step 1 − If it is the first element, it is already sorted. return 1; \")\n",
    "print (\"Step 2 − Pick next element \")\n",
    "print (\"Step 3 − Compare with all elements in the sorted sub-list \")\n",
    "print (\"Step 4 − Shift all the elements in the sorted sub-list that is  \")\n",
    "print (\"greater than the value to be sorted \")\n",
    "print (\"Step 5 − Insert the value \")\n",
    "print (\"Step 6 − Repeat until list is sorted \")\n",
    "print (\" \")\n",
    "\n"
   ]
  },
  {
   "cell_type": "code",
   "execution_count": 1,
   "id": "original-obligation",
   "metadata": {
    "collapsed": true,
    "jupyter": {
     "outputs_hidden": true
    },
    "tags": []
   },
   "outputs": [
    {
     "name": "stdout",
     "output_type": "stream",
     "text": [
      "This are the following that I learn in this chapter \n",
      "Merge sort is a sorting technique based on divide and conquer \n",
      "technique. With worst-case time complexity being Ο(n log n),  \n",
      "it is one of the most respected algorithms. \n",
      "It merge sort first divides the array into equal halves and then  \n",
      "combines them in a sorted manner. \n",
      "\n",
      "Merge sort keeps on dividing the list into equal halves until it  \n",
      "can no more be divided. By definition, if it is only one element  \n",
      "in the list, it is sorted. Then, merge sort combines the smaller  \n",
      "sorted lists keeping the new list sorted too. \n",
      "Step 1 − if it is only one element in the list it is already sorted, return. \n",
      "Step 2 − divide the list recursively into two halves until it can no more be divided. \n",
      "Step 3 − merge the smaller lists into new list in sorted order. \n",
      " \n"
     ]
    }
   ],
   "source": [
    "print (\"This are the following that I learn in this chapter 14\")\n",
    "print (\"Merge sort is a sorting technique based on divide and conquer \")\n",
    "print (\"technique. With worst-case time complexity being Ο(n log n),  \")\n",
    "print (\"it is one of the most respected algorithms. \")\n",
    "print (\"It merge sort first divides the array into equal halves and then  \")\n",
    "print (\"combines them in a sorted manner. \")\n",
    "print (\"\\nMerge sort keeps on dividing the list into equal halves until it  \")\n",
    "print (\"can no more be divided. By definition, if it is only one element  \")\n",
    "print (\"in the list, it is sorted. Then, merge sort combines the smaller  \")\n",
    "print (\"sorted lists keeping the new list sorted too. \")\n",
    "print (\"Step 1 − if it is only one element in the list it is already sorted, return. \")\n",
    "print (\"Step 2 − divide the list recursively into two halves until it can no more be divided. \")\n",
    "print (\"Step 3 − merge the smaller lists into new list in sorted order. \")\n",
    "print (\" \")\n",
    "\n"
   ]
  },
  {
   "cell_type": "code",
   "execution_count": null,
   "id": "indie-night",
   "metadata": {
    "tags": []
   },
   "outputs": [],
   "source": [
    "print (\"This are the following that I learn in this chapter 15\")\n",
    "print (\"\\nShell sort is a highly efficient sorting algorithm and is based on \")\n",
    "print (\"insertion sort algorithm. This algorithm avoids large shifts as in  \")\n",
    "print (\"case of insertion sort, if the smaller value is to the far right and \")\n",
    "print (\"has to be moved to the far left. \")\n",
    "print (\"\\nThis algorithm uses insertion sort on a widely spread elements,  \")\n",
    "print (\"first to sort them and then sorts the less widely spaced  \")\n",
    "print (\"elements. This spacing is termed as interval. \")\n",
    "print (\"\\nFollowing is the algorithm for shell sort. \")\n",
    "print (\"Step 1 − Initialize the value of h \")\n",
    "print (\"Step 2 − Divide the list into smaller sub-list of equal interval h \")\n",
    "print (\"Step 3 − Sort these sub-lists using insertion sort \")\n",
    "print (\"Step 4 − Repeat until complete list is sorted \")\n",
    "print (\" \")"
   ]
  },
  {
   "cell_type": "code",
   "execution_count": 4,
   "id": "peaceful-payment",
   "metadata": {
    "collapsed": true,
    "jupyter": {
     "outputs_hidden": true
    },
    "tags": []
   },
   "outputs": [
    {
     "name": "stdout",
     "output_type": "stream",
     "text": [
      "This are the following that I learn in this chapter 15\n",
      "\n",
      "Selection sort is a simple sorting algorithm. This sorting  \n",
      "algorithm is an in-place comparison-based algorithm in which \n",
      "the list is divided into two parts, the sorted part at the left end \n",
      "and the unsorted part at the right end. Initially, the sorted part  \n",
      "is empty and the unsorted part is the entire list. \n",
      "\n",
      "The smallest element is selected from the unsorted array and  \n",
      "swapped with the leftmost element, and that element  \n",
      "becomes a part of the sorted array. This process continues  \n",
      "moving unsorted array boundary by one element to the right \n",
      "Step 1 − Set MIN to location 0 \n",
      "Step 2 − Search the minimum element in the list \n",
      "Step 3 − Swap with value at location MIN \n",
      "Step 4 − Increment MIN to point to next element \n",
      "Step 5 − Repeat until list is sorted \n",
      " \n"
     ]
    }
   ],
   "source": [
    "print (\"This are the following that I learn in this chapter 16)\n",
    "print (\"\\nSelection sort is a simple sorting algorithm. This sorting  \")\n",
    "print (\"algorithm is an in-place comparison-based algorithm in which \")\n",
    "print (\"the list is divided into two parts, the sorted part at the left end \")\n",
    "print (\"and the unsorted part at the right end. Initially, the sorted part  \")\n",
    "print (\"is empty and the unsorted part is the entire list. \")\n",
    "print (\"\\nThe smallest element is selected from the unsorted array and  \")\n",
    "print (\"swapped with the leftmost element, and that element  \")\n",
    "print (\"becomes a part of the sorted array. This process continues  \")\n",
    "print (\"moving unsorted array boundary by one element to the right \")\n",
    "print (\"Step 1 − Set MIN to location 0 \")\n",
    "print (\"Step 2 − Search the minimum element in the list \")\n",
    "print (\"Step 3 − Swap with value at location MIN \")\n",
    "print (\"Step 4 − Increment MIN to point to next element \")\n",
    "print (\"Step 5 − Repeat until list is sorted \")\n",
    "print (\" \")\n"
   ]
  },
  {
   "cell_type": "code",
   "execution_count": 6,
   "id": "quantitative-palmer",
   "metadata": {
    "collapsed": true,
    "jupyter": {
     "outputs_hidden": true
    },
    "tags": []
   },
   "outputs": [
    {
     "name": "stdout",
     "output_type": "stream",
     "text": [
      "This are the following that I learn in this chapter 16\n",
      "\n",
      "Recursion allows a function to call itself. Fixed steps of code \n",
      "get executed again and again for new values. We also have to  \n",
      "set criteria for deciding when the recursive call ends. \n",
      "We take a sorted list and give its index range as input  \n",
      "to the recursive function. \n",
      "\n",
      "Binary Search using Recursion \n",
      "We implement the algorithm of binary search using python as  \n",
      "shown below. We use an ordered list of items and design a \n",
      "recursive function to take in the list along with starting and  \n",
      "ending index as input. Then the binary search function calls  \n",
      "itself till find the the searched item or concludes about its  \n",
      "absence in the list. \n",
      "\n",
      "Advantages of Python Recursion \n",
      "Reduces unnecessary calling of function, thus reduces length \n",
      "of program. Very flexible in data structure like stacks, queues,  \n",
      "linked list and quick sort. Big and complex iterative solutions  \n",
      "are easy and simple with Python recursion. \n",
      " \n"
     ]
    }
   ],
   "source": [
    "print (\"This are the following that I learn in this chapter 17\")\n",
    "print (\"\\nRecursion allows a function to call itself. Fixed steps of code \")\n",
    "print (\"get executed again and again for new values. We also have to  \")\n",
    "print (\"set criteria for deciding when the recursive call ends. \")\n",
    "print (\"We take a sorted list and give its index range as input  \")\n",
    "print (\"to the recursive function. \")\n",
    "print (\"\\nBinary Search using Recursion \")\n",
    "print (\"We implement the algorithm of binary search using python as  \")\n",
    "print (\"shown below. We use an ordered list of items and design a \")\n",
    "print (\"recursive function to take in the list along with starting and  \")\n",
    "print (\"ending index as input. Then the binary search function calls  \")\n",
    "print (\"itself till find the the searched item or concludes about its  \")\n",
    "print (\"absence in the list. \")\n",
    "print (\"\\nAdvantages of Python Recursion \")\n",
    "print (\"Reduces unnecessary calling of function, thus reduces length \")\n",
    "print (\"of program. Very flexible in data structure like stacks, queues,  \")\n",
    "print (\"linked list and quick sort. Big and complex iterative solutions  \")\n",
    "print (\"are easy and simple with Python recursion. \")\n",
    "print (\" \")\n",
    "\n",
    "\n"
   ]
  },
  {
   "cell_type": "code",
   "execution_count": 37,
   "id": "active-nursery",
   "metadata": {
    "tags": []
   },
   "outputs": [
    {
     "name": "stdout",
     "output_type": "stream",
     "text": [
      "ll.  \n",
      "1. Implement the simple methods get_num and get_den that will return the numerator and denominator of a fraction. \n",
      "8/23\n",
      "8\n",
      "23\n"
     ]
    }
   ],
   "source": [
    "print (\"ll.  \")\n",
    "print (\"1. Implement the simple methods get_num and get_den that will return the numerator and denominator of a fraction. \")\n",
    "class Fraction:\n",
    "    def __init__(self, TOP, BOT):\n",
    "        self.num = TOP       \n",
    "        self.den = BOT   \n",
    "    def __str__(self):\n",
    "        return str(self.num) + \"/\" + str(self.den)\n",
    "    def getNum(self):\n",
    "        return self.num\n",
    "    def getDen(self):\n",
    "        return self.den\n",
    "R = Fraction(8, 23)\n",
    "print(R)\n",
    "print(R.getNum())\n",
    "print(R.getDen())\n"
   ]
  },
  {
   "cell_type": "code",
   "execution_count": null,
   "id": "imposed-reconstruction",
   "metadata": {},
   "outputs": [],
   "source": []
  },
  {
   "cell_type": "code",
   "execution_count": 18,
   "id": "knowing-insurance",
   "metadata": {
    "collapsed": true,
    "jupyter": {
     "outputs_hidden": true
    },
    "tags": []
   },
   "outputs": [
    {
     "name": "stdout",
     "output_type": "stream",
     "text": [
      "ll.  \n",
      "Research the __radd__ method. How does it differ from __add__? When is it used? Implement __radd__ \n",
      "_add_ and _raad_ OOP is the same function and usually we use  \n",
      "_add_ and sometimes TypeError appear and it kill our program \n",
      "and we can alternative use the _raad_ method to disappear the TypeError. \n"
     ]
    }
   ],
   "source": [
    "print (\"ll.  \")\n",
    "print (\"2. Research the __radd__ method. How does it differ from __add__? When is it used? Implement __radd__ \")\n",
    "print (\"_add_ and _raad_ OOP is the same function and usually we use  \")\n",
    "print (\"_add_ and sometimes TypeError appear and it kill our program \")\n",
    "print (\"and we can alternative use the _raad_ method to disappear the TypeError. \")\n",
    "\n",
    "def __radd__(self, other):\n",
    "    newnum = self.num * other.den + \\\n",
    "                 self.den * other.num\n",
    "    newden = self.den * other.den\n",
    "    return Fraction(newnum, newden)"
   ]
  },
  {
   "cell_type": "code",
   "execution_count": 29,
   "id": "found-wheat",
   "metadata": {},
   "outputs": [
    {
     "name": "stdout",
     "output_type": "stream",
     "text": [
      "ll.  \n",
      "3. Research the __repr__ method. How does it differ from __str__? When is it used? Implement __repr__.\n",
      ". __repr__ goal is to be unambiguous while __str__ goal is to be readable\n",
      "Instance NAME of class User\n"
     ]
    }
   ],
   "source": [
    "print (\"ll.  \")\n",
    "print(\"3. Research the __repr__ method. How does it differ from __str__? When is it used? Implement __repr__.\")\n",
    "print(\". __repr__ goal is to be unambiguous while __str__ goal is to be readable\")\n",
    "class USER:\n",
    "    def __init__(self, N):\n",
    "        self.username = N\n",
    "    def __repr__(self):\n",
    "        return 'Instance {} of class User'.format(self.username)\n",
    "R = USER('NAME')\n",
    "print(R)"
   ]
  },
  {
   "cell_type": "code",
   "execution_count": 34,
   "id": "powerful-growing",
   "metadata": {
    "tags": []
   },
   "outputs": [
    {
     "name": "stdout",
     "output_type": "stream",
     "text": [
      "ll.  \n",
      "4. The most simple arithmetic circuit is known as the half adder. Research the simple half-adder circuit. Implement this circuit.\n",
      "THE SUM IS:   31\n",
      "CARRY IS:     0\n"
     ]
    }
   ],
   "source": [
    "print (\"ll.  \")\n",
    "print(\"4. The most simple arithmetic circuit is known as the half adder. Research the simple half-adder circuit. Implement this circuit.\")\n",
    "def GR(A, B):\n",
    "    S = A ^ B\n",
    "    C = A & B\n",
    "    print(\"THE SUM IS:  \", S)\n",
    "    print(\"CARRY IS:    \", C)\n",
    "A = 8\n",
    "B = 23\n",
    "GR(A, B)"
   ]
  },
  {
   "cell_type": "code",
   "execution_count": 36,
   "id": "funky-validity",
   "metadata": {
    "tags": []
   },
   "outputs": [
    {
     "name": "stdout",
     "output_type": "stream",
     "text": [
      "ll.  \n",
      "5.Design a class to represent a playing card and another one to represent a deck of cards. Using these two classes, implement your favorite card game.\n"
     ]
    }
   ],
   "source": [
    "print (\"ll.  \")\n",
    "print(\"5.Design a class to represent a playing card and another one to represent a deck of cards. Using these two classes, implement your favorite card game.\")\n",
    "class Card(object):\n",
    "    SN = [\"CLUBS\", \"DIAMONDS\", \"HEARTS\", \"SPADES\"]\n",
    "    RN = [None, \"2\", \"3\", \"4\", \"5\", \"6\", \"7\", \"8\",\n",
    "                  \"9\", \"10\", \"JACK\", \"QUEEN\", \"KING\", \"ACE\"]\n",
    "    def __init__(self, SUIT=0, RANK=1):\n",
    "        self.SUIT = SUIT\n",
    "        self.RANK = RANK\n",
    "    def __str__(self):\n",
    "        \"\"\" returns a human readable string representation \"\"\"\n",
    "        return '%s of %s' % (Card.RN[self.RANK],\n",
    "                             Card.SN[self.SUIT])\n",
    "    def __lt__(self, other):\n",
    "        R1 = self.SUIT, self.RANK\n",
    "        R2 = other.SUIT, other.RANK\n",
    "        return R1 < R2\n",
    "    def getRank(self):\n",
    "        return self.RANK"
   ]
  },
  {
   "cell_type": "code",
   "execution_count": 22,
   "id": "laughing-glass",
   "metadata": {
    "collapsed": true,
    "jupyter": {
     "outputs_hidden": true
    },
    "tags": []
   },
   "outputs": [
    {
     "name": "stdout",
     "output_type": "stream",
     "text": [
      "ll. \n",
      "5. Design and implement an experiment to do benchmark comparisons of the two queue(enqueue,dequeue) implementations. What can you learn from such an experiment?\n",
      "<__main__.Queue object at 0x000001D30F5CFAF0>\n",
      "deque(['REX', 'ORANGE', 'COUNTY'])\n",
      "Adding to the right: \n",
      "deque(['REX', 'ORANGE', 'COUNTY', 'THEBEST'])\n",
      "Adding to the left: \n",
      "deque(['ALEX', 'REX', 'ORANGE', 'COUNTY', 'THEBEST'])\n",
      "Removing from the right: \n",
      "deque(['ALEX', 'REX', 'ORANGE', 'COUNTY'])\n",
      "Removing from the left: \n",
      "deque(['REX', 'ORANGE', 'COUNTY'])\n",
      "Reversing the deque: \n",
      "deque(['COUNTY', 'ORANGE', 'REX'])\n"
     ]
    }
   ],
   "source": [
    "print (\"ll. \")\n",
    "print(\"6. Design and implement an experiment to do benchmark comparisons of the two queue(enqueue,dequeue) implementations. What can you learn from such an experiment?\")\n",
    "class Queue:\n",
    " \n",
    "  def __init__(self):\n",
    "      self.queue = list()\n",
    " \n",
    "  def addToQueue(self,VALUE):\n",
    "      if VALUE not in self.queue:\n",
    "          self.queue.insert(0,VALUE)\n",
    "          return True\n",
    "      return False\n",
    " \n",
    "  def size(self):\n",
    "      return len(self.queue)\n",
    " \n",
    "MYFAVBANDS = Queue()\n",
    "MYFAVBANDS.addToQueue(\"REX ORANGE COUNTY\")\n",
    "MYFAVBANDS.addToQueue(\"PAROKYA NI EDGAR\")\n",
    "MYFAVBANDS.addToQueue(\"IV OF SPADES\")\n",
    "MYFAVBANDS.addToQueue(\"PARAMORE\")\n",
    "MYFAVBANDS.addToQueue(\"KAMIKAZEE\")\n",
    "print(MYFAVBANDS)\n",
    "\n",
    "import collections\n",
    " \n",
    "DoubleEnded = collections.deque([\"REX\",\"ORANGE\",\"COUNTY\"])\n",
    "print (DoubleEnded)\n",
    " \n",
    "print(\"Adding to the right: \")\n",
    "DoubleEnded.append(\"THEBEST\")\n",
    "print (DoubleEnded)\n",
    " \n",
    "print(\"Adding to the left: \")\n",
    "DoubleEnded.appendleft(\"ALEX\")\n",
    "print (DoubleEnded)\n",
    " \n",
    "print(\"Removing from the right: \")\n",
    "DoubleEnded.pop()\n",
    "print (DoubleEnded)\n",
    " \n",
    "print(\"Removing from the left: \")\n",
    "DoubleEnded.popleft()\n",
    "print (DoubleEnded)\n",
    " \n",
    "print(\"Reversing the deque: \")\n",
    "DoubleEnded.reverse()\n",
    "print (DoubleEnded)\n"
   ]
  },
  {
   "cell_type": "code",
   "execution_count": 23,
   "id": "smooth-steal",
   "metadata": {
    "collapsed": true,
    "jupyter": {
     "outputs_hidden": true
    },
    "tags": []
   },
   "outputs": [
    {
     "name": "stdout",
     "output_type": "stream",
     "text": [
      "ll. \n",
      "6. Consider a real life situation. Formulate a question and then design a simulation that can help to answer it.\n",
      "\n",
      "Road incidents. How to minimize road incidents?\n",
      "• Avoiding over-speeding and following speed limits.\n",
      "• Avoiding drunken driving.\n",
      "• Using helmets by two-wheeler drivers.\n",
      "• Using seat belts and child restraints in cars.\n",
      "• Improving visibility, appropriate headlights and road lightings.\n",
      "• Discipline  \n"
     ]
    }
   ],
   "source": [
    "print (\"ll. \")\n",
    "print(\"7. Consider a real life situation. Formulate a question and then design a simulation that can help to answer it.\")\n",
    "print(\"\\nCars lined up at a car wash\")\n",
    "print(\"• Patience \")\n",
    "print(\"• Free cold and warm water \")\n",
    "print(\"• Time limit \")\n",
    "print(\"• More washers \")\n",
    "print(\"• Free comfort room\")\n",
    "print(\"• Cheap restaurant or street foods vendors \")"
   ]
  },
  {
   "cell_type": "code",
   "execution_count": 24,
   "id": "nasty-reggae",
   "metadata": {
    "collapsed": true,
    "jupyter": {
     "outputs_hidden": true
    },
    "tags": []
   },
   "outputs": [
    {
     "name": "stdout",
     "output_type": "stream",
     "text": [
      "ll. \n",
      "7. Implement a queue using linked lists.\n",
      "['ralph', 'ronan', 'descallar', 'gwapo', 'yes']\n",
      "ralph\n",
      "['ronan', 'descallar', 'gwapo', 'yes']\n",
      "ronan\n",
      "['descallar', 'gwapo', 'yes']\n"
     ]
    }
   ],
   "source": [
    "print (\"ll. \")\n",
    "print(\"8. Implement a queue using linked lists.\")\n",
    "Q = [\"ralph\", \"ronan\", \"descallar\"]\n",
    "Q.append(\"gwapo\")\n",
    "Q.append(\"yes\")\n",
    "print(Q)\n",
    "  \n",
    "print(Q.pop(0))\n",
    "  \n",
    "print(Q)\n",
    "  \n",
    "print(Q.pop(0))\n",
    "  \n",
    "print(Q)\n",
    "\n"
   ]
  },
  {
   "cell_type": "code",
   "execution_count": 25,
   "id": "preceding-flush",
   "metadata": {
    "collapsed": true,
    "jupyter": {
     "outputs_hidden": true
    },
    "tags": []
   },
   "outputs": [
    {
     "name": "stdout",
     "output_type": "stream",
     "text": [
      "ll. \n",
      "8. Write a recursive function to compute the factorial of a number.\n",
      "\n",
      "THE FACTORIAL NUMBER OF 23 IS:  25852016738884976640000\n"
     ]
    }
   ],
   "source": [
    "print (\"ll. \")\n",
    "print(\"9. Write a recursive function to compute the factorial of a number.\")\n",
    "\n",
    "def recur_factorial(R):\n",
    "   if R == 1:\n",
    "       return R\n",
    "   else:\n",
    "       return R*recur_factorial(R-1)\n",
    "N = 23\n",
    "print(\"\\nTHE FACTORIAL NUMBER OF\", N, \"IS: \", recur_factorial(N))\n",
    "\n",
    "\n"
   ]
  },
  {
   "cell_type": "markdown",
   "id": "massive-toddler",
   "metadata": {
    "jupyter": {
     "outputs_hidden": true
    },
    "tags": []
   },
   "source": [
    "## print (\"ll. \")\n",
    "print(\"10. Set up a random experiment to test the difference between a sequential search and a binary search on a list of integers.\")\n",
    "def BINARY(A, L, H, R):\n",
    "    if H >= L:\n",
    "        M = (H + L) // 2\n",
    "        if A[M] == R:\n",
    "            return M\n",
    "        elif A[M] > R:\n",
    "            return BINARY(A, L, M - 1, R)\n",
    "        else:\n",
    "            return BINARY(A, M + 1, H, R)\n",
    "    else:\n",
    "        return -1\n",
    "A = [ 8, 23, 11, 6, 21 ]\n",
    "R = 12\n",
    "RS = BINARY(A, 0, len(arr)-1, R)\n",
    "if RS != -1:\n",
    "    print(\"ELEMENT IS PRESENT\", str(RS))\n",
    "else:\n",
    "    print(\"ELEMENT IS NOT PRESENTED IN ARRAY\")\n",
    "def SEQUENTIAL(dlist, item):\n",
    "    P = 0\n",
    "    F = False\n",
    "    while P < len(dlist) and not F:\n",
    "        if dlist[P] == item:\n",
    "            F = True\n",
    "        else:\n",
    "            P = P + 1\n",
    "    return F, P\n",
    "print(SEQUENTIAL([12,23,6,22,11,33,44,55,66,77],88))\n"
   ]
  },
  {
   "cell_type": "code",
   "execution_count": null,
   "id": "attractive-azerbaijan",
   "metadata": {},
   "outputs": [],
   "source": []
  },
  {
   "cell_type": "code",
   "execution_count": 33,
   "id": "lonely-house",
   "metadata": {},
   "outputs": [
    {
     "name": "stdout",
     "output_type": "stream",
     "text": [
      "ll. \n",
      "Suppose you are a computer scientist/art thief who has broken into a major art gallery. All you have with you to haul out your stolen art is your knapsack which only holds W pounds of art, but for every piece of art you know its value and its weight. Write a dynamic programming function to help you maximize your profit. Here is a sample problem for you to use to get started: Suppose your knapsack can hold a total weight of 20. \n",
      "8\n"
     ]
    }
   ],
   "source": [
    "print (\"ll. \")\n",
    "print(\"11. Suppose you are a computer scientist/art thief who has broken into a major art gallery. All you have with you to haul out your stolen art is your knapsack which only holds W pounds of art, but for every piece of art you know its value and its weight. Write a dynamic programming function to help you maximize your profit. Here is a sample problem for you to use to get started: Suppose your knapsack can hold a total weight of 20. \")\n",
    "def KS(I, W, V, N):\n",
    "\n",
    "    if N == 0 or I == 0:\n",
    "        return 0\n",
    "\n",
    "    if (W[N-1] > I):\n",
    "        return KS(I, W, V, N-1)\n",
    "\n",
    "    else:\n",
    "        return max(\n",
    "            V[N-1] + KS(\n",
    "                I-W[N-1], W, V, N-1),\n",
    "            KS(I, W, V, N-1))\n",
    "V = [3, 4, 8,8,10]\n",
    "W = [2, 3, 4,5,9]\n",
    "I = 5\n",
    "N = len(V)\n",
    "print (KS(I, W, V, N))"
   ]
  },
  {
   "cell_type": "code",
   "execution_count": null,
   "id": "thrown-touch",
   "metadata": {},
   "outputs": [],
   "source": []
  }
 ],
 "metadata": {
  "kernelspec": {
   "display_name": "Python 3",
   "language": "python",
   "name": "python3"
  },
  "language_info": {
   "codemirror_mode": {
    "name": "ipython",
    "version": 3
   },
   "file_extension": ".py",
   "mimetype": "text/x-python",
   "name": "python",
   "nbconvert_exporter": "python",
   "pygments_lexer": "ipython3",
   "version": "3.9.2"
  }
 },
 "nbformat": 4,
 "nbformat_minor": 5
}
